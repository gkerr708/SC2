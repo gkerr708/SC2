{
 "cells": [
  {
   "cell_type": "code",
   "execution_count": 2,
   "metadata": {},
   "outputs": [],
   "source": [
    "import numpy as np, pandas as pd, matplotlib.pyplot as plt, scienceplots\n",
    "plt.style.use(\"science\")"
   ]
  },
  {
   "cell_type": "code",
   "execution_count": 3,
   "metadata": {},
   "outputs": [],
   "source": [
    "df = pd.read_csv(\"Zerg/zerg-data.csv\") # need to change filename for linux vs windows"
   ]
  },
  {
   "cell_type": "code",
   "execution_count": 4,
   "metadata": {},
   "outputs": [],
   "source": [
    "def time_to_sec(data):\n",
    "    cols = data.columns\n",
    "    for col_title in cols:\n",
    "        col = df[f\"{col_title}\"].copy()\n",
    "        for i, e in enumerate(col):\n",
    "            try:\n",
    "                if e[-3] == ':':\n",
    "                    lst2 = [float(x) for x in e.split(':')]\n",
    "                    tot_minutes = lst2[0] + lst2[1] / 60\n",
    "                    col[i] = round(tot_minutes,2)\n",
    "            except:\n",
    "                pass\n",
    "        try:   \n",
    "            df[f\"{col_title}\"] = col.astype(float)\n",
    "        except ValueError:\n",
    "            pass\n",
    "time_to_sec(df)"
   ]
  },
  {
   "cell_type": "code",
   "execution_count": 5,
   "metadata": {},
   "outputs": [
    {
     "data": {
      "text/html": [
       "<div>\n",
       "<style scoped>\n",
       "    .dataframe tbody tr th:only-of-type {\n",
       "        vertical-align: middle;\n",
       "    }\n",
       "\n",
       "    .dataframe tbody tr th {\n",
       "        vertical-align: top;\n",
       "    }\n",
       "\n",
       "    .dataframe thead th {\n",
       "        text-align: right;\n",
       "    }\n",
       "</style>\n",
       "<table border=\"1\" class=\"dataframe\">\n",
       "  <thead>\n",
       "    <tr style=\"text-align: right;\">\n",
       "      <th></th>\n",
       "      <th>natural_saturation_time</th>\n",
       "      <th>third_saturation_time</th>\n",
       "      <th>army_supply</th>\n",
       "      <th>1_1_attack_time</th>\n",
       "      <th>aggression</th>\n",
       "      <th>result</th>\n",
       "    </tr>\n",
       "  </thead>\n",
       "  <tbody>\n",
       "    <tr>\n",
       "      <th>count</th>\n",
       "      <td>12.000000</td>\n",
       "      <td>9.000000</td>\n",
       "      <td>9.000000</td>\n",
       "      <td>9.000000</td>\n",
       "      <td>13.000000</td>\n",
       "      <td>13.000000</td>\n",
       "    </tr>\n",
       "    <tr>\n",
       "      <th>mean</th>\n",
       "      <td>4.896667</td>\n",
       "      <td>7.033333</td>\n",
       "      <td>59.333333</td>\n",
       "      <td>9.827778</td>\n",
       "      <td>2.461538</td>\n",
       "      <td>0.461538</td>\n",
       "    </tr>\n",
       "    <tr>\n",
       "      <th>std</th>\n",
       "      <td>0.901174</td>\n",
       "      <td>2.063898</td>\n",
       "      <td>30.491802</td>\n",
       "      <td>2.690315</td>\n",
       "      <td>1.941451</td>\n",
       "      <td>0.518875</td>\n",
       "    </tr>\n",
       "    <tr>\n",
       "      <th>min</th>\n",
       "      <td>3.830000</td>\n",
       "      <td>5.480000</td>\n",
       "      <td>23.000000</td>\n",
       "      <td>8.020000</td>\n",
       "      <td>0.000000</td>\n",
       "      <td>0.000000</td>\n",
       "    </tr>\n",
       "    <tr>\n",
       "      <th>25%</th>\n",
       "      <td>4.330000</td>\n",
       "      <td>5.830000</td>\n",
       "      <td>45.000000</td>\n",
       "      <td>8.330000</td>\n",
       "      <td>0.000000</td>\n",
       "      <td>0.000000</td>\n",
       "    </tr>\n",
       "    <tr>\n",
       "      <th>50%</th>\n",
       "      <td>4.590000</td>\n",
       "      <td>6.000000</td>\n",
       "      <td>46.000000</td>\n",
       "      <td>9.000000</td>\n",
       "      <td>3.000000</td>\n",
       "      <td>0.000000</td>\n",
       "    </tr>\n",
       "    <tr>\n",
       "      <th>75%</th>\n",
       "      <td>5.150000</td>\n",
       "      <td>7.720000</td>\n",
       "      <td>61.000000</td>\n",
       "      <td>9.750000</td>\n",
       "      <td>4.000000</td>\n",
       "      <td>1.000000</td>\n",
       "    </tr>\n",
       "    <tr>\n",
       "      <th>max</th>\n",
       "      <td>7.000000</td>\n",
       "      <td>11.670000</td>\n",
       "      <td>115.000000</td>\n",
       "      <td>16.750000</td>\n",
       "      <td>5.000000</td>\n",
       "      <td>1.000000</td>\n",
       "    </tr>\n",
       "  </tbody>\n",
       "</table>\n",
       "</div>"
      ],
      "text/plain": [
       "       natural_saturation_time  third_saturation_time  army_supply  \\\n",
       "count                12.000000               9.000000     9.000000   \n",
       "mean                  4.896667               7.033333    59.333333   \n",
       "std                   0.901174               2.063898    30.491802   \n",
       "min                   3.830000               5.480000    23.000000   \n",
       "25%                   4.330000               5.830000    45.000000   \n",
       "50%                   4.590000               6.000000    46.000000   \n",
       "75%                   5.150000               7.720000    61.000000   \n",
       "max                   7.000000              11.670000   115.000000   \n",
       "\n",
       "       1_1_attack_time  aggression     result  \n",
       "count         9.000000   13.000000  13.000000  \n",
       "mean          9.827778    2.461538   0.461538  \n",
       "std           2.690315    1.941451   0.518875  \n",
       "min           8.020000    0.000000   0.000000  \n",
       "25%           8.330000    0.000000   0.000000  \n",
       "50%           9.000000    3.000000   0.000000  \n",
       "75%           9.750000    4.000000   1.000000  \n",
       "max          16.750000    5.000000   1.000000  "
      ]
     },
     "execution_count": 5,
     "metadata": {},
     "output_type": "execute_result"
    }
   ],
   "source": [
    "df.describe()"
   ]
  },
  {
   "cell_type": "code",
   "execution_count": 7,
   "metadata": {},
   "outputs": [
    {
     "name": "stderr",
     "output_type": "stream",
     "text": [
      "C:\\Users\\gkerr\\AppData\\Local\\Temp\\ipykernel_9048\\1134722465.py:1: FutureWarning: The default value of numeric_only in DataFrame.corr is deprecated. In a future version, it will default to False. Select only valid columns or specify the value of numeric_only to silence this warning.\n",
      "  df.corr()\n"
     ]
    },
    {
     "data": {
      "text/html": [
       "<div>\n",
       "<style scoped>\n",
       "    .dataframe tbody tr th:only-of-type {\n",
       "        vertical-align: middle;\n",
       "    }\n",
       "\n",
       "    .dataframe tbody tr th {\n",
       "        vertical-align: top;\n",
       "    }\n",
       "\n",
       "    .dataframe thead th {\n",
       "        text-align: right;\n",
       "    }\n",
       "</style>\n",
       "<table border=\"1\" class=\"dataframe\">\n",
       "  <thead>\n",
       "    <tr style=\"text-align: right;\">\n",
       "      <th></th>\n",
       "      <th>natural_saturation_time</th>\n",
       "      <th>third_saturation_time</th>\n",
       "      <th>army_supply</th>\n",
       "      <th>1_1_attack_time</th>\n",
       "      <th>aggression</th>\n",
       "      <th>result</th>\n",
       "    </tr>\n",
       "  </thead>\n",
       "  <tbody>\n",
       "    <tr>\n",
       "      <th>natural_saturation_time</th>\n",
       "      <td>1.000000</td>\n",
       "      <td>0.400606</td>\n",
       "      <td>-0.110277</td>\n",
       "      <td>0.292654</td>\n",
       "      <td>0.748172</td>\n",
       "      <td>0.486782</td>\n",
       "    </tr>\n",
       "    <tr>\n",
       "      <th>third_saturation_time</th>\n",
       "      <td>0.400606</td>\n",
       "      <td>1.000000</td>\n",
       "      <td>0.472911</td>\n",
       "      <td>0.841680</td>\n",
       "      <td>0.684669</td>\n",
       "      <td>-0.302607</td>\n",
       "    </tr>\n",
       "    <tr>\n",
       "      <th>army_supply</th>\n",
       "      <td>-0.110277</td>\n",
       "      <td>0.472911</td>\n",
       "      <td>1.000000</td>\n",
       "      <td>0.768074</td>\n",
       "      <td>0.083370</td>\n",
       "      <td>0.075189</td>\n",
       "    </tr>\n",
       "    <tr>\n",
       "      <th>1_1_attack_time</th>\n",
       "      <td>0.292654</td>\n",
       "      <td>0.841680</td>\n",
       "      <td>0.768074</td>\n",
       "      <td>1.000000</td>\n",
       "      <td>0.632729</td>\n",
       "      <td>-0.111176</td>\n",
       "    </tr>\n",
       "    <tr>\n",
       "      <th>aggression</th>\n",
       "      <td>0.748172</td>\n",
       "      <td>0.684669</td>\n",
       "      <td>0.083370</td>\n",
       "      <td>0.632729</td>\n",
       "      <td>1.000000</td>\n",
       "      <td>0.019090</td>\n",
       "    </tr>\n",
       "    <tr>\n",
       "      <th>result</th>\n",
       "      <td>0.486782</td>\n",
       "      <td>-0.302607</td>\n",
       "      <td>0.075189</td>\n",
       "      <td>-0.111176</td>\n",
       "      <td>0.019090</td>\n",
       "      <td>1.000000</td>\n",
       "    </tr>\n",
       "  </tbody>\n",
       "</table>\n",
       "</div>"
      ],
      "text/plain": [
       "                         natural_saturation_time  third_saturation_time  \\\n",
       "natural_saturation_time                 1.000000               0.400606   \n",
       "third_saturation_time                   0.400606               1.000000   \n",
       "army_supply                            -0.110277               0.472911   \n",
       "1_1_attack_time                         0.292654               0.841680   \n",
       "aggression                              0.748172               0.684669   \n",
       "result                                  0.486782              -0.302607   \n",
       "\n",
       "                         army_supply  1_1_attack_time  aggression    result  \n",
       "natural_saturation_time    -0.110277         0.292654    0.748172  0.486782  \n",
       "third_saturation_time       0.472911         0.841680    0.684669 -0.302607  \n",
       "army_supply                 1.000000         0.768074    0.083370  0.075189  \n",
       "1_1_attack_time             0.768074         1.000000    0.632729 -0.111176  \n",
       "aggression                  0.083370         0.632729    1.000000  0.019090  \n",
       "result                      0.075189        -0.111176    0.019090  1.000000  "
      ]
     },
     "execution_count": 7,
     "metadata": {},
     "output_type": "execute_result"
    }
   ],
   "source": [
    "df.corr()"
   ]
  },
  {
   "cell_type": "code",
   "execution_count": 6,
   "metadata": {},
   "outputs": [
    {
     "data": {
      "image/png": "[encoded data removed]",
      "text/plain": [
       "<Figure size 800x400 with 1 Axes>"
      ]
     },
     "metadata": {},
     "output_type": "display_data"
    }
   ],
   "source": [
    "fig, ax = plt.subplots(1,1,figsize=(4,2),dpi=200)\n",
    "ax.scatter(df.natural_saturation_time,df.third_saturation_time)\n",
    "ax.set_xlabel(\"natural_saturation_time\")\n",
    "ax.set_ylabel(\"third_saturation_time\")\n",
    "plt.show()"
   ]
  },
  {
   "cell_type": "code",
   "execution_count": 10,
   "metadata": {},
   "outputs": [
    {
     "data": {
      "image/png": "[encoded data removed]",
      "text/plain": [
       "<Figure size 800x400 with 1 Axes>"
      ]
     },
     "metadata": {},
     "output_type": "display_data"
    }
   ],
   "source": [
    "fig, ax = plt.subplots(1,1,figsize=(4,2),dpi=200)\n",
    "ax.hist(df.army_supply)\n",
    "ax.set_xlabel(\"natural_saturation_time\")\n",
    "ax.set_ylabel(\"third_saturation_time\")\n",
    "plt.show()"
   ]
  }
 ],
 "metadata": {
  "kernelspec": {
   "display_name": "Python 3",
   "language": "python",
   "name": "python3"
  },
  "language_info": {
   "codemirror_mode": {
    "name": "ipython",
    "version": 3
   },
   "file_extension": ".py",
   "mimetype": "text/x-python",
   "name": "python",
   "nbconvert_exporter": "python",
   "pygments_lexer": "ipython3",
   "version": "3.10.9"
  },
  "orig_nbformat": 4
 },
 "nbformat": 4,
 "nbformat_minor": 2
}
