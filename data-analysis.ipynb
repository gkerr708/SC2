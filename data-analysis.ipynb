{
 "cells": [
  {
   "cell_type": "code",
   "execution_count": 14,
   "metadata": {},
   "outputs": [],
   "source": [
    "import numpy as np, pandas as pd, matplotlib.pyplot as plt, scienceplots\n",
    "plt.style.use(\"science\")"
   ]
  },
  {
   "cell_type": "code",
   "execution_count": 15,
   "metadata": {},
   "outputs": [],
   "source": [
    "df = pd.read_csv(\"Zerg/zerg-data.csv\") # need to change filename for linux vs windows"
   ]
  },
  {
   "cell_type": "code",
   "execution_count": 16,
   "metadata": {},
   "outputs": [],
   "source": [
    "def time_to_sec(data):\n",
    "    cols = data.columns\n",
    "    for col_title in cols:\n",
    "        col = df[f\"{col_title}\"].copy()\n",
    "        for i, e in enumerate(col):\n",
    "            try:\n",
    "                if e[-3] == ':':\n",
    "                    lst2 = [float(x) for x in e.split(':')]\n",
    "                    tot_minutes = lst2[0] + lst2[1] / 60\n",
    "                    col[i] = round(tot_minutes,2)\n",
    "            except:\n",
    "                pass\n",
    "        try:   \n",
    "            df[f\"{col_title}\"] = col.astype(float)\n",
    "        except ValueError:\n",
    "            pass\n",
    "time_to_sec(df)"
   ]
  },
  {
   "cell_type": "code",
   "execution_count": 17,
   "metadata": {},
   "outputs": [
    {
     "name": "stderr",
     "output_type": "stream",
     "text": [
      "C:\\Users\\gkerr\\AppData\\Local\\Temp\\ipykernel_18816\\1134722465.py:1: FutureWarning: The default value of numeric_only in DataFrame.corr is deprecated. In a future version, it will default to False. Select only valid columns or specify the value of numeric_only to silence this warning.\n",
      "  df.corr()\n"
     ]
    },
    {
     "data": {
      "text/html": [
       "<div>\n",
       "<style scoped>\n",
       "    .dataframe tbody tr th:only-of-type {\n",
       "        vertical-align: middle;\n",
       "    }\n",
       "\n",
       "    .dataframe tbody tr th {\n",
       "        vertical-align: top;\n",
       "    }\n",
       "\n",
       "    .dataframe thead th {\n",
       "        text-align: right;\n",
       "    }\n",
       "</style>\n",
       "<table border=\"1\" class=\"dataframe\">\n",
       "  <thead>\n",
       "    <tr style=\"text-align: right;\">\n",
       "      <th></th>\n",
       "      <th>natural_saturation_time</th>\n",
       "      <th>third_saturation_time</th>\n",
       "      <th>army_supply</th>\n",
       "      <th>1_1_attack_time</th>\n",
       "      <th>aggression</th>\n",
       "      <th>result</th>\n",
       "    </tr>\n",
       "  </thead>\n",
       "  <tbody>\n",
       "    <tr>\n",
       "      <th>natural_saturation_time</th>\n",
       "      <td>1.000000</td>\n",
       "      <td>0.442035</td>\n",
       "      <td>-0.374202</td>\n",
       "      <td>0.210591</td>\n",
       "      <td>0.857209</td>\n",
       "      <td>0.381059</td>\n",
       "    </tr>\n",
       "    <tr>\n",
       "      <th>third_saturation_time</th>\n",
       "      <td>0.442035</td>\n",
       "      <td>1.000000</td>\n",
       "      <td>0.546581</td>\n",
       "      <td>0.931004</td>\n",
       "      <td>0.753099</td>\n",
       "      <td>-0.357887</td>\n",
       "    </tr>\n",
       "    <tr>\n",
       "      <th>army_supply</th>\n",
       "      <td>-0.374202</td>\n",
       "      <td>0.546581</td>\n",
       "      <td>1.000000</td>\n",
       "      <td>0.754726</td>\n",
       "      <td>0.192980</td>\n",
       "      <td>-0.218142</td>\n",
       "    </tr>\n",
       "    <tr>\n",
       "      <th>1_1_attack_time</th>\n",
       "      <td>0.210591</td>\n",
       "      <td>0.931004</td>\n",
       "      <td>0.754726</td>\n",
       "      <td>1.000000</td>\n",
       "      <td>0.716694</td>\n",
       "      <td>-0.290422</td>\n",
       "    </tr>\n",
       "    <tr>\n",
       "      <th>aggression</th>\n",
       "      <td>0.857209</td>\n",
       "      <td>0.753099</td>\n",
       "      <td>0.192980</td>\n",
       "      <td>0.716694</td>\n",
       "      <td>1.000000</td>\n",
       "      <td>0.059479</td>\n",
       "    </tr>\n",
       "    <tr>\n",
       "      <th>result</th>\n",
       "      <td>0.381059</td>\n",
       "      <td>-0.357887</td>\n",
       "      <td>-0.218142</td>\n",
       "      <td>-0.290422</td>\n",
       "      <td>0.059479</td>\n",
       "      <td>1.000000</td>\n",
       "    </tr>\n",
       "  </tbody>\n",
       "</table>\n",
       "</div>"
      ],
      "text/plain": [
       "                         natural_saturation_time  third_saturation_time  \\\n",
       "natural_saturation_time                 1.000000               0.442035   \n",
       "third_saturation_time                   0.442035               1.000000   \n",
       "army_supply                            -0.374202               0.546581   \n",
       "1_1_attack_time                         0.210591               0.931004   \n",
       "aggression                              0.857209               0.753099   \n",
       "result                                  0.381059              -0.357887   \n",
       "\n",
       "                         army_supply  1_1_attack_time  aggression    result  \n",
       "natural_saturation_time    -0.374202         0.210591    0.857209  0.381059  \n",
       "third_saturation_time       0.546581         0.931004    0.753099 -0.357887  \n",
       "army_supply                 1.000000         0.754726    0.192980 -0.218142  \n",
       "1_1_attack_time             0.754726         1.000000    0.716694 -0.290422  \n",
       "aggression                  0.192980         0.716694    1.000000  0.059479  \n",
       "result                     -0.218142        -0.290422    0.059479  1.000000  "
      ]
     },
     "execution_count": 17,
     "metadata": {},
     "output_type": "execute_result"
    }
   ],
   "source": [
    "df.corr()"
   ]
  },
  {
   "cell_type": "code",
   "execution_count": 18,
   "metadata": {},
   "outputs": [
    {
     "data": {
      "image/png": "[encoded data removed]",
      "text/plain": [
       "<Figure size 800x400 with 1 Axes>"
      ]
     },
     "metadata": {},
     "output_type": "display_data"
    }
   ],
   "source": [
    "fig, ax = plt.subplots(1,1,figsize=(4,2),dpi=200)\n",
    "ax.scatter(df.natural_saturation_time,df.third_saturation_time)\n",
    "ax.set_xlabel(\"natural_saturation_time\")\n",
    "ax.set_ylabel(\"third_saturation_time\")\n",
    "plt.show()"
   ]
  },
  {
   "cell_type": "code",
   "execution_count": null,
   "metadata": {},
   "outputs": [],
   "source": []
  }
 ],
 "metadata": {
  "kernelspec": {
   "display_name": "Python 3",
   "language": "python",
   "name": "python3"
  },
  "language_info": {
   "codemirror_mode": {
    "name": "ipython",
    "version": 3
   },
   "file_extension": ".py",
   "mimetype": "text/x-python",
   "name": "python",
   "nbconvert_exporter": "python",
   "pygments_lexer": "ipython3",
   "version": "3.10.9"
  },
  "orig_nbformat": 4
 },
 "nbformat": 4,
 "nbformat_minor": 2
}
